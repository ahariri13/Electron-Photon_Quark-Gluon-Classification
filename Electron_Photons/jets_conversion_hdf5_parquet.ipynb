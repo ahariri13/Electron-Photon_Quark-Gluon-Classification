{
  "nbformat": 4,
  "nbformat_minor": 0,
  "metadata": {
    "kernelspec": {
      "display_name": "Python 3",
      "language": "python",
      "name": "python3"
    },
    "language_info": {
      "codemirror_mode": {
        "name": "ipython",
        "version": 3
      },
      "file_extension": ".py",
      "mimetype": "text/x-python",
      "name": "python",
      "nbconvert_exporter": "python",
      "pygments_lexer": "ipython3",
      "version": "3.6.7"
    },
    "colab": {
      "name": "jets_conversion_hdf5_parquet-forAli .ipynb",
      "provenance": [],
      "collapsed_sections": []
    },
    "accelerator": "GPU"
  },
  "cells": [
    {
      "cell_type": "code",
      "metadata": {
        "id": "4kzA9dgzT9Yz",
        "colab_type": "code",
        "colab": {}
      },
      "source": [
        "from pylab import rcParams\n",
        "from matplotlib.colors import LogNorm\n",
        "import matplotlib.pyplot as plt\n",
        "import os \n",
        "import sys\n",
        "import numpy as np\n",
        "import pandas as pd"
      ],
      "execution_count": null,
      "outputs": []
    },
    {
      "cell_type": "code",
      "metadata": {
        "id": "WHQR1Q2FT9Y2",
        "colab_type": "code",
        "colab": {}
      },
      "source": [
        "import pyarrow as pa\n",
        "import pyarrow.parquet as pq\n",
        "import h5py\n",
        "\n",
        "import warnings\n",
        "warnings.simplefilter(action='ignore', category=FutureWarning)"
      ],
      "execution_count": null,
      "outputs": []
    },
    {
      "cell_type": "code",
      "metadata": {
        "id": "VaB732idUOIL",
        "colab_type": "code",
        "colab": {
          "base_uri": "https://localhost:8080/",
          "height": 34
        },
        "outputId": "a4838160-d844-4537-99fc-17533efb8464"
      },
      "source": [
        "from google.colab import drive\n",
        "drive.mount('/content/drive')"
      ],
      "execution_count": null,
      "outputs": [
        {
          "output_type": "stream",
          "text": [
            "Drive already mounted at /content/drive; to attempt to forcibly remount, call drive.mount(\"/content/drive\", force_remount=True).\n"
          ],
          "name": "stdout"
        }
      ]
    },
    {
      "cell_type": "code",
      "metadata": {
        "id": "g_eEVCn5ULvF",
        "colab_type": "code",
        "colab": {
          "base_uri": "https://localhost:8080/",
          "height": 34
        },
        "outputId": "e82ffad6-1ffa-47f7-8097-c435c258663f"
      },
      "source": [
        "cd drive/My\\ Drive/ElPhotons/"
      ],
      "execution_count": null,
      "outputs": [
        {
          "output_type": "stream",
          "text": [
            "/content/drive/My Drive/ElPhotons\n"
          ],
          "name": "stdout"
        }
      ]
    },
    {
      "cell_type": "code",
      "metadata": {
        "id": "2VLop9jp3j82",
        "colab_type": "code",
        "colab": {}
      },
      "source": [
        "# Open the input HDF5 file\n",
        "dsets = h5py.File('SinglePhotonPt50_IMGCROPS_n249k_RHv2.hdf5', 'r')\n",
        "keys = ['X','y'] # key names in in put hdf5\n"
      ],
      "execution_count": null,
      "outputs": []
    },
    {
      "cell_type": "code",
      "metadata": {
        "id": "-sBHjsSFqLku",
        "colab_type": "code",
        "colab": {
          "base_uri": "https://localhost:8080/",
          "height": 52
        },
        "outputId": "6e391f1d-5062-48f7-e08f-c4538a111b45"
      },
      "source": [
        "temp=dsets['X'].value"
      ],
      "execution_count": null,
      "outputs": [
        {
          "output_type": "stream",
          "text": [
            "/usr/local/lib/python3.6/dist-packages/ipykernel_launcher.py:1: H5pyDeprecationWarning: dataset.value has been deprecated. Use dataset[()] instead.\n",
            "  \"\"\"Entry point for launching an IPython kernel.\n"
          ],
          "name": "stderr"
        }
      ]
    },
    {
      "cell_type": "code",
      "metadata": {
        "id": "_iQFHnv5i_yj",
        "colab_type": "code",
        "colab": {
          "base_uri": "https://localhost:8080/",
          "height": 52
        },
        "outputId": "95c4297c-0ee4-4719-ba91-dd414538389f"
      },
      "source": [
        "ytemp=dsets['y'].value"
      ],
      "execution_count": null,
      "outputs": [
        {
          "output_type": "stream",
          "text": [
            "/usr/local/lib/python3.6/dist-packages/ipykernel_launcher.py:1: H5pyDeprecationWarning: dataset.value has been deprecated. Use dataset[()] instead.\n",
            "  \"\"\"Entry point for launching an IPython kernel.\n"
          ],
          "name": "stderr"
        }
      ]
    },
    {
      "cell_type": "code",
      "metadata": {
        "id": "_v0TIYvaRi9F",
        "colab_type": "code",
        "colab": {}
      },
      "source": [
        "import torch\n",
        "temp2=torch.from_numpy(temp)"
      ],
      "execution_count": null,
      "outputs": []
    },
    {
      "cell_type": "code",
      "metadata": {
        "id": "UMaT3XGvRLv8",
        "colab_type": "code",
        "colab": {}
      },
      "source": [
        "graphs=[]\n",
        "\n",
        "for i in range(temp2.shape[0]):\n",
        "\n",
        "  ecal=temp2[i][:,:,0].cuda()\n",
        "\n",
        "  xhit2,yhit2=torch.nonzero(ecal,as_tuple=True)  ## Select hits in detector\n",
        "\n",
        "  eneEcal=ecal[xhit2,yhit2] ## Select energies of hits\n",
        "\n",
        "  feats=torch.stack((xhit2.float(),yhit2.float(),eneEcal),dim=1) ## concatenate x,y locations and energies (3 features in total)\n",
        "\n",
        "  cords=feats[:,[0,1]] ## cords = x,y coordinates \n",
        "\n",
        "  graphs.append(cords)"
      ],
      "execution_count": null,
      "outputs": []
    },
    {
      "cell_type": "code",
      "metadata": {
        "id": "zM-zf_aqSCfw",
        "colab_type": "code",
        "colab": {}
      },
      "source": [
        "lengs=[]\n",
        "for kk in graphs:\n",
        "  lengs.append(len(kk))"
      ],
      "execution_count": null,
      "outputs": []
    },
    {
      "cell_type": "code",
      "metadata": {
        "id": "tyrnZoy8Svsc",
        "colab_type": "code",
        "colab": {}
      },
      "source": [
        "lengs=np.array(lengs)"
      ],
      "execution_count": null,
      "outputs": []
    },
    {
      "cell_type": "code",
      "metadata": {
        "id": "cWeM3RGdS059",
        "colab_type": "code",
        "colab": {}
      },
      "source": [
        "outers=np.where(lengs==0)[0].tolist()"
      ],
      "execution_count": null,
      "outputs": []
    },
    {
      "cell_type": "code",
      "metadata": {
        "id": "zgRJJCR7gwSn",
        "colab_type": "code",
        "colab": {}
      },
      "source": [
        "inners=np.where(lengs!=0)[0].tolist()"
      ],
      "execution_count": null,
      "outputs": []
    },
    {
      "cell_type": "code",
      "metadata": {
        "id": "CzDTWRY-gzLf",
        "colab_type": "code",
        "colab": {}
      },
      "source": [
        "photons = h5py.File('PhotonData.h5', 'w')"
      ],
      "execution_count": null,
      "outputs": []
    },
    {
      "cell_type": "code",
      "metadata": {
        "id": "u377IHIAlHiF",
        "colab_type": "code",
        "colab": {
          "base_uri": "https://localhost:8080/",
          "height": 34
        },
        "outputId": "190083ce-2a4c-4a62-a08d-35b6d9b58180"
      },
      "source": [
        "photons.create_dataset('X', data=temp[inners])"
      ],
      "execution_count": null,
      "outputs": [
        {
          "output_type": "execute_result",
          "data": {
            "text/plain": [
              "<HDF5 dataset \"X\": shape (248693, 32, 32, 2), type \"<f4\">"
            ]
          },
          "metadata": {
            "tags": []
          },
          "execution_count": 15
        }
      ]
    },
    {
      "cell_type": "code",
      "metadata": {
        "id": "YoBJEWPDlU8D",
        "colab_type": "code",
        "colab": {
          "base_uri": "https://localhost:8080/",
          "height": 34
        },
        "outputId": "9a6918c2-7c22-4d63-e412-d498d22a5939"
      },
      "source": [
        "photons.create_dataset('y', data=ytemp[inners])"
      ],
      "execution_count": null,
      "outputs": [
        {
          "output_type": "execute_result",
          "data": {
            "text/plain": [
              "<HDF5 dataset \"y\": shape (248693,), type \"<f4\">"
            ]
          },
          "metadata": {
            "tags": []
          },
          "execution_count": 16
        }
      ]
    },
    {
      "cell_type": "code",
      "metadata": {
        "id": "Lslpyw5qiHXj",
        "colab_type": "code",
        "colab": {}
      },
      "source": [
        "photons.close()"
      ],
      "execution_count": null,
      "outputs": []
    },
    {
      "cell_type": "code",
      "metadata": {
        "id": "wNyzMzdYiEzR",
        "colab_type": "code",
        "colab": {}
      },
      "source": [
        "dsets = h5py.File('SinglePhotonPt50_IMGCROPS_n249k_RHv1.hdf5', 'w')"
      ],
      "execution_count": null,
      "outputs": []
    },
    {
      "cell_type": "code",
      "metadata": {
        "id": "SQMP0g0SinKP",
        "colab_type": "code",
        "colab": {}
      },
      "source": [
        "dsets.__delitem__('X2')"
      ],
      "execution_count": null,
      "outputs": []
    },
    {
      "cell_type": "code",
      "metadata": {
        "id": "qukcuG8Hh5LQ",
        "colab_type": "code",
        "colab": {
          "base_uri": "https://localhost:8080/",
          "height": 34
        },
        "outputId": "36bd444e-1f18-4258-9d50-2e58d9827b5b"
      },
      "source": [
        "dsets.create_dataset('X2', data=res)"
      ],
      "execution_count": null,
      "outputs": [
        {
          "output_type": "execute_result",
          "data": {
            "text/plain": [
              "<HDF5 dataset \"X2\": shape (248693, 32, 32, 2), type \"<f4\">"
            ]
          },
          "metadata": {
            "tags": []
          },
          "execution_count": 25
        }
      ]
    },
    {
      "cell_type": "code",
      "metadata": {
        "id": "O7rWxq0Rg1Ph",
        "colab_type": "code",
        "colab": {}
      },
      "source": [
        "\n",
        "res = np.delete(temp, outers)  # delete element with index 1, i.e. second element\n",
        "dsets['X2'] = res  # reassign to dataset"
      ],
      "execution_count": null,
      "outputs": []
    },
    {
      "cell_type": "code",
      "metadata": {
        "id": "W63Ooh1iiQEt",
        "colab_type": "code",
        "colab": {}
      },
      "source": [
        "res=temp[inners]"
      ],
      "execution_count": null,
      "outputs": []
    },
    {
      "cell_type": "code",
      "metadata": {
        "id": "QyFPVA4Vi8B_",
        "colab_type": "code",
        "colab": {
          "base_uri": "https://localhost:8080/",
          "height": 34
        },
        "outputId": "83b445ce-0935-48b6-9e26-873a88bde7e9"
      },
      "source": [
        "len(inners)"
      ],
      "execution_count": null,
      "outputs": [
        {
          "output_type": "execute_result",
          "data": {
            "text/plain": [
              "248693"
            ]
          },
          "metadata": {
            "tags": []
          },
          "execution_count": 20
        }
      ]
    },
    {
      "cell_type": "code",
      "metadata": {
        "id": "rxbPp8MNibxC",
        "colab_type": "code",
        "colab": {
          "base_uri": "https://localhost:8080/",
          "height": 34
        },
        "outputId": "3726cece-35fc-4b53-b9e6-e1bab3b9e4d6"
      },
      "source": [
        "res.shape"
      ],
      "execution_count": null,
      "outputs": [
        {
          "output_type": "execute_result",
          "data": {
            "text/plain": [
              "(248693, 32, 32, 2)"
            ]
          },
          "metadata": {
            "tags": []
          },
          "execution_count": 22
        }
      ]
    },
    {
      "cell_type": "code",
      "metadata": {
        "id": "ObtD_MBXT9Y5",
        "colab_type": "code",
        "colab": {}
      },
      "source": [
        "def np2arrowArray(x):\n",
        "    if len(x.shape) > 1:\n",
        "        x = np.transpose(x, [2,0,1])\n",
        "        return pa.array([x.tolist()])\n",
        "    else:\n",
        "        return pa.array([x.tolist()])\n",
        "\n",
        "    \n",
        "def convert_to_Parquet(filename, start, stop, chunk_size):\n",
        "    # Open the input HDF5 file\n",
        "    dsets = h5py.File(filename, 'r')\n",
        "    keys = ['X','y'] # key names in in put hdf5\n",
        "    row0 = [np2arrowArray(dsets[key][0]) for key in keys]\n",
        "    keys = ['X','y'] # desired key names in output parquet\n",
        "    table0 = pa.Table.from_arrays(row0, keys) \n",
        "    \n",
        "    # Open the output Parquet file\n",
        "    filename = '%s.snappy.parquet'%(filename)\n",
        "    writer = pq.ParquetWriter(filename, table0.schema, compression='snappy')\n",
        "\n",
        "    # Loop over file chunks of size chunk_size\n",
        "    nevts = stop - start\n",
        "    for i in range(int(np.ceil(1.*nevts/chunk_size))):\n",
        "        \n",
        "        begin = start + i*chunk_size\n",
        "        end = begin + chunk_size\n",
        "\n",
        "        # Load array chunks into memory\n",
        "        X = dsets['X'][begin:end]\n",
        "        label=dsets['y'][begin:end]\n",
        "\n",
        "        # Convert events in the chunk one-by-one\n",
        "        print (filename)\n",
        "        print('Doing events: [%d->%d)'%(begin,end))\n",
        "        for j in range(len(X)):\n",
        "\n",
        "\n",
        "          # Create a list for each sample\n",
        "          sample = [np2arrowArray(X[j]),np2arrowArray(label[j])]\n",
        "\n",
        "          table = pa.Table.from_arrays(sample, keys)\n",
        "          os.chdir('\\\\'.join(os.getcwd().split('\\\\')[:-1]) + './')\n",
        "          writer.write_table(table)\n",
        "\n",
        "    writer.close()\n",
        "    return filename\n"
      ],
      "execution_count": null,
      "outputs": []
    },
    {
      "cell_type": "code",
      "metadata": {
        "id": "p-oJUS0nT9Y7",
        "colab_type": "code",
        "colab": {}
      },
      "source": [
        "def main():\n",
        "    wdir = r'./'\n",
        "    hdf5_filenames = ['PhotonData.h5']\n",
        "    chunk_size = 2000\n",
        "    start = 0 \n",
        "    stop = 248000\n",
        "    for filename in hdf5_filenames: \n",
        "        convert_to_Parquet(filename, start, stop, chunk_size)"
      ],
      "execution_count": null,
      "outputs": []
    },
    {
      "cell_type": "code",
      "metadata": {
        "id": "2aea6JPQmQML",
        "colab_type": "code",
        "colab": {}
      },
      "source": [
        "import numpy as np\n",
        "import h5py"
      ],
      "execution_count": null,
      "outputs": []
    },
    {
      "cell_type": "code",
      "metadata": {
        "id": "QESYFzNNT9Y-",
        "colab_type": "code",
        "colab": {
          "base_uri": "https://localhost:8080/",
          "height": 1000
        },
        "outputId": "4ca738aa-90d4-4b4f-fdd1-ec17f460d924"
      },
      "source": [
        "if __name__ == \"__main__\":\n",
        "    main()"
      ],
      "execution_count": null,
      "outputs": [
        {
          "output_type": "stream",
          "text": [
            "PhotonData.h5.snappy.parquet\n",
            "Doing events: [0->2000)\n",
            "PhotonData.h5.snappy.parquet\n",
            "Doing events: [2000->4000)\n",
            "PhotonData.h5.snappy.parquet\n",
            "Doing events: [4000->6000)\n",
            "PhotonData.h5.snappy.parquet\n",
            "Doing events: [6000->8000)\n",
            "PhotonData.h5.snappy.parquet\n",
            "Doing events: [8000->10000)\n",
            "PhotonData.h5.snappy.parquet\n",
            "Doing events: [10000->12000)\n",
            "PhotonData.h5.snappy.parquet\n",
            "Doing events: [12000->14000)\n",
            "PhotonData.h5.snappy.parquet\n",
            "Doing events: [14000->16000)\n",
            "PhotonData.h5.snappy.parquet\n",
            "Doing events: [16000->18000)\n",
            "PhotonData.h5.snappy.parquet\n",
            "Doing events: [18000->20000)\n",
            "PhotonData.h5.snappy.parquet\n",
            "Doing events: [20000->22000)\n",
            "PhotonData.h5.snappy.parquet\n",
            "Doing events: [22000->24000)\n",
            "PhotonData.h5.snappy.parquet\n",
            "Doing events: [24000->26000)\n",
            "PhotonData.h5.snappy.parquet\n",
            "Doing events: [26000->28000)\n",
            "PhotonData.h5.snappy.parquet\n",
            "Doing events: [28000->30000)\n",
            "PhotonData.h5.snappy.parquet\n",
            "Doing events: [30000->32000)\n",
            "PhotonData.h5.snappy.parquet\n",
            "Doing events: [32000->34000)\n",
            "PhotonData.h5.snappy.parquet\n",
            "Doing events: [34000->36000)\n",
            "PhotonData.h5.snappy.parquet\n",
            "Doing events: [36000->38000)\n",
            "PhotonData.h5.snappy.parquet\n",
            "Doing events: [38000->40000)\n",
            "PhotonData.h5.snappy.parquet\n",
            "Doing events: [40000->42000)\n",
            "PhotonData.h5.snappy.parquet\n",
            "Doing events: [42000->44000)\n",
            "PhotonData.h5.snappy.parquet\n",
            "Doing events: [44000->46000)\n",
            "PhotonData.h5.snappy.parquet\n",
            "Doing events: [46000->48000)\n",
            "PhotonData.h5.snappy.parquet\n",
            "Doing events: [48000->50000)\n",
            "PhotonData.h5.snappy.parquet\n",
            "Doing events: [50000->52000)\n",
            "PhotonData.h5.snappy.parquet\n",
            "Doing events: [52000->54000)\n",
            "PhotonData.h5.snappy.parquet\n",
            "Doing events: [54000->56000)\n",
            "PhotonData.h5.snappy.parquet\n",
            "Doing events: [56000->58000)\n",
            "PhotonData.h5.snappy.parquet\n",
            "Doing events: [58000->60000)\n",
            "PhotonData.h5.snappy.parquet\n",
            "Doing events: [60000->62000)\n",
            "PhotonData.h5.snappy.parquet\n",
            "Doing events: [62000->64000)\n",
            "PhotonData.h5.snappy.parquet\n",
            "Doing events: [64000->66000)\n",
            "PhotonData.h5.snappy.parquet\n",
            "Doing events: [66000->68000)\n",
            "PhotonData.h5.snappy.parquet\n",
            "Doing events: [68000->70000)\n",
            "PhotonData.h5.snappy.parquet\n",
            "Doing events: [70000->72000)\n",
            "PhotonData.h5.snappy.parquet\n",
            "Doing events: [72000->74000)\n",
            "PhotonData.h5.snappy.parquet\n",
            "Doing events: [74000->76000)\n",
            "PhotonData.h5.snappy.parquet\n",
            "Doing events: [76000->78000)\n",
            "PhotonData.h5.snappy.parquet\n",
            "Doing events: [78000->80000)\n",
            "PhotonData.h5.snappy.parquet\n",
            "Doing events: [80000->82000)\n",
            "PhotonData.h5.snappy.parquet\n",
            "Doing events: [82000->84000)\n",
            "PhotonData.h5.snappy.parquet\n",
            "Doing events: [84000->86000)\n",
            "PhotonData.h5.snappy.parquet\n",
            "Doing events: [86000->88000)\n",
            "PhotonData.h5.snappy.parquet\n",
            "Doing events: [88000->90000)\n",
            "PhotonData.h5.snappy.parquet\n",
            "Doing events: [90000->92000)\n",
            "PhotonData.h5.snappy.parquet\n",
            "Doing events: [92000->94000)\n",
            "PhotonData.h5.snappy.parquet\n",
            "Doing events: [94000->96000)\n",
            "PhotonData.h5.snappy.parquet\n",
            "Doing events: [96000->98000)\n",
            "PhotonData.h5.snappy.parquet\n",
            "Doing events: [98000->100000)\n",
            "PhotonData.h5.snappy.parquet\n",
            "Doing events: [100000->102000)\n",
            "PhotonData.h5.snappy.parquet\n",
            "Doing events: [102000->104000)\n",
            "PhotonData.h5.snappy.parquet\n",
            "Doing events: [104000->106000)\n",
            "PhotonData.h5.snappy.parquet\n",
            "Doing events: [106000->108000)\n",
            "PhotonData.h5.snappy.parquet\n",
            "Doing events: [108000->110000)\n",
            "PhotonData.h5.snappy.parquet\n",
            "Doing events: [110000->112000)\n",
            "PhotonData.h5.snappy.parquet\n",
            "Doing events: [112000->114000)\n",
            "PhotonData.h5.snappy.parquet\n",
            "Doing events: [114000->116000)\n",
            "PhotonData.h5.snappy.parquet\n",
            "Doing events: [116000->118000)\n",
            "PhotonData.h5.snappy.parquet\n",
            "Doing events: [118000->120000)\n",
            "PhotonData.h5.snappy.parquet\n",
            "Doing events: [120000->122000)\n",
            "PhotonData.h5.snappy.parquet\n",
            "Doing events: [122000->124000)\n",
            "PhotonData.h5.snappy.parquet\n",
            "Doing events: [124000->126000)\n",
            "PhotonData.h5.snappy.parquet\n",
            "Doing events: [126000->128000)\n",
            "PhotonData.h5.snappy.parquet\n",
            "Doing events: [128000->130000)\n",
            "PhotonData.h5.snappy.parquet\n",
            "Doing events: [130000->132000)\n",
            "PhotonData.h5.snappy.parquet\n",
            "Doing events: [132000->134000)\n",
            "PhotonData.h5.snappy.parquet\n",
            "Doing events: [134000->136000)\n",
            "PhotonData.h5.snappy.parquet\n",
            "Doing events: [136000->138000)\n",
            "PhotonData.h5.snappy.parquet\n",
            "Doing events: [138000->140000)\n",
            "PhotonData.h5.snappy.parquet\n",
            "Doing events: [140000->142000)\n",
            "PhotonData.h5.snappy.parquet\n",
            "Doing events: [142000->144000)\n",
            "PhotonData.h5.snappy.parquet\n",
            "Doing events: [144000->146000)\n",
            "PhotonData.h5.snappy.parquet\n",
            "Doing events: [146000->148000)\n",
            "PhotonData.h5.snappy.parquet\n",
            "Doing events: [148000->150000)\n",
            "PhotonData.h5.snappy.parquet\n",
            "Doing events: [150000->152000)\n",
            "PhotonData.h5.snappy.parquet\n",
            "Doing events: [152000->154000)\n",
            "PhotonData.h5.snappy.parquet\n",
            "Doing events: [154000->156000)\n",
            "PhotonData.h5.snappy.parquet\n",
            "Doing events: [156000->158000)\n",
            "PhotonData.h5.snappy.parquet\n",
            "Doing events: [158000->160000)\n",
            "PhotonData.h5.snappy.parquet\n",
            "Doing events: [160000->162000)\n",
            "PhotonData.h5.snappy.parquet\n",
            "Doing events: [162000->164000)\n",
            "PhotonData.h5.snappy.parquet\n",
            "Doing events: [164000->166000)\n",
            "PhotonData.h5.snappy.parquet\n",
            "Doing events: [166000->168000)\n",
            "PhotonData.h5.snappy.parquet\n",
            "Doing events: [168000->170000)\n",
            "PhotonData.h5.snappy.parquet\n",
            "Doing events: [170000->172000)\n",
            "PhotonData.h5.snappy.parquet\n",
            "Doing events: [172000->174000)\n",
            "PhotonData.h5.snappy.parquet\n",
            "Doing events: [174000->176000)\n",
            "PhotonData.h5.snappy.parquet\n",
            "Doing events: [176000->178000)\n",
            "PhotonData.h5.snappy.parquet\n",
            "Doing events: [178000->180000)\n",
            "PhotonData.h5.snappy.parquet\n",
            "Doing events: [180000->182000)\n",
            "PhotonData.h5.snappy.parquet\n",
            "Doing events: [182000->184000)\n",
            "PhotonData.h5.snappy.parquet\n",
            "Doing events: [184000->186000)\n",
            "PhotonData.h5.snappy.parquet\n",
            "Doing events: [186000->188000)\n",
            "PhotonData.h5.snappy.parquet\n",
            "Doing events: [188000->190000)\n",
            "PhotonData.h5.snappy.parquet\n",
            "Doing events: [190000->192000)\n",
            "PhotonData.h5.snappy.parquet\n",
            "Doing events: [192000->194000)\n",
            "PhotonData.h5.snappy.parquet\n",
            "Doing events: [194000->196000)\n",
            "PhotonData.h5.snappy.parquet\n",
            "Doing events: [196000->198000)\n",
            "PhotonData.h5.snappy.parquet\n",
            "Doing events: [198000->200000)\n",
            "PhotonData.h5.snappy.parquet\n",
            "Doing events: [200000->202000)\n",
            "PhotonData.h5.snappy.parquet\n",
            "Doing events: [202000->204000)\n",
            "PhotonData.h5.snappy.parquet\n",
            "Doing events: [204000->206000)\n",
            "PhotonData.h5.snappy.parquet\n",
            "Doing events: [206000->208000)\n",
            "PhotonData.h5.snappy.parquet\n",
            "Doing events: [208000->210000)\n",
            "PhotonData.h5.snappy.parquet\n",
            "Doing events: [210000->212000)\n",
            "PhotonData.h5.snappy.parquet\n",
            "Doing events: [212000->214000)\n",
            "PhotonData.h5.snappy.parquet\n",
            "Doing events: [214000->216000)\n",
            "PhotonData.h5.snappy.parquet\n",
            "Doing events: [216000->218000)\n",
            "PhotonData.h5.snappy.parquet\n",
            "Doing events: [218000->220000)\n",
            "PhotonData.h5.snappy.parquet\n",
            "Doing events: [220000->222000)\n",
            "PhotonData.h5.snappy.parquet\n",
            "Doing events: [222000->224000)\n",
            "PhotonData.h5.snappy.parquet\n",
            "Doing events: [224000->226000)\n",
            "PhotonData.h5.snappy.parquet\n",
            "Doing events: [226000->228000)\n",
            "PhotonData.h5.snappy.parquet\n",
            "Doing events: [228000->230000)\n",
            "PhotonData.h5.snappy.parquet\n",
            "Doing events: [230000->232000)\n",
            "PhotonData.h5.snappy.parquet\n",
            "Doing events: [232000->234000)\n",
            "PhotonData.h5.snappy.parquet\n",
            "Doing events: [234000->236000)\n",
            "PhotonData.h5.snappy.parquet\n",
            "Doing events: [236000->238000)\n",
            "PhotonData.h5.snappy.parquet\n",
            "Doing events: [238000->240000)\n",
            "PhotonData.h5.snappy.parquet\n",
            "Doing events: [240000->242000)\n",
            "PhotonData.h5.snappy.parquet\n",
            "Doing events: [242000->244000)\n",
            "PhotonData.h5.snappy.parquet\n",
            "Doing events: [244000->246000)\n",
            "PhotonData.h5.snappy.parquet\n",
            "Doing events: [246000->248000)\n"
          ],
          "name": "stdout"
        }
      ]
    },
    {
      "cell_type": "code",
      "metadata": {
        "id": "hTGi6EoIUcCV",
        "colab_type": "code",
        "colab": {}
      },
      "source": [
        "1+1"
      ],
      "execution_count": null,
      "outputs": []
    },
    {
      "cell_type": "code",
      "metadata": {
        "id": "54NGnLqelU01",
        "colab_type": "code",
        "colab": {}
      },
      "source": [
        ""
      ],
      "execution_count": null,
      "outputs": []
    }
  ]
}